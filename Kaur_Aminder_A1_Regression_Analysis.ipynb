{
 "cells": [
  {
   "cell_type": "markdown",
   "metadata": {},
   "source": [
    "### Assignment 1"
   ]
  },
  {
   "cell_type": "markdown",
   "metadata": {},
   "source": [
    "~ Aminder Kaur"
   ]
  },
  {
   "cell_type": "markdown",
   "metadata": {},
   "source": [
    "Aim :- To analyze data, develop insights and build a machine learning model to predict the revenue of customers first year life-cycle"
   ]
  },
  {
   "cell_type": "markdown",
   "metadata": {},
   "source": [
    "#### Importing Libraries"
   ]
  },
  {
   "cell_type": "code",
   "execution_count": 1,
   "metadata": {},
   "outputs": [],
   "source": [
    "import pandas as pd \n",
    "import matplotlib.pyplot as plt\n",
    "import seaborn as sns \n",
    "import gender_guesser.detector as gender\n",
    "import statsmodels.formula.api as smf # regression modeling\n",
    "from sklearn.model_selection import train_test_split # train/test split\n",
    "from sklearn.linear_model import LinearRegression\n",
    "from sklearn.neighbors import KNeighborsRegressor # KNN for Regression\n",
    "from sklearn.preprocessing import StandardScaler # standard scaler\n",
    "\n",
    "# setting pandas print options\n",
    "pd.set_option('display.max_rows', 500)\n",
    "pd.set_option('display.max_columns', 500)\n",
    "pd.set_option('display.width', 1000)\n",
    "\n",
    "#loading the file \n",
    "file =\"Apprentice_Chef_Dataset.xlsx\"\n",
    "df = pd.read_excel(io=file)\n"
   ]
  },
  {
   "cell_type": "markdown",
   "metadata": {},
   "source": [
    "#### Data Exploration"
   ]
  },
  {
   "cell_type": "code",
   "execution_count": 2,
   "metadata": {},
   "outputs": [
    {
     "data": {
      "text/html": [
       "<div>\n",
       "<style scoped>\n",
       "    .dataframe tbody tr th:only-of-type {\n",
       "        vertical-align: middle;\n",
       "    }\n",
       "\n",
       "    .dataframe tbody tr th {\n",
       "        vertical-align: top;\n",
       "    }\n",
       "\n",
       "    .dataframe thead th {\n",
       "        text-align: right;\n",
       "    }\n",
       "</style>\n",
       "<table border=\"1\" class=\"dataframe\">\n",
       "  <thead>\n",
       "    <tr style=\"text-align: right;\">\n",
       "      <th></th>\n",
       "      <th>REVENUE</th>\n",
       "      <th>CROSS_SELL_SUCCESS</th>\n",
       "      <th>NAME</th>\n",
       "      <th>EMAIL</th>\n",
       "      <th>FIRST_NAME</th>\n",
       "      <th>FAMILY_NAME</th>\n",
       "      <th>TOTAL_MEALS_ORDERED</th>\n",
       "      <th>UNIQUE_MEALS_PURCH</th>\n",
       "      <th>CONTACTS_W_CUSTOMER_SERVICE</th>\n",
       "      <th>PRODUCT_CATEGORIES_VIEWED</th>\n",
       "      <th>AVG_TIME_PER_SITE_VISIT</th>\n",
       "      <th>MOBILE_NUMBER</th>\n",
       "      <th>CANCELLATIONS_BEFORE_NOON</th>\n",
       "      <th>CANCELLATIONS_AFTER_NOON</th>\n",
       "      <th>TASTES_AND_PREFERENCES</th>\n",
       "      <th>PC_LOGINS</th>\n",
       "      <th>MOBILE_LOGINS</th>\n",
       "      <th>WEEKLY_PLAN</th>\n",
       "      <th>EARLY_DELIVERIES</th>\n",
       "      <th>LATE_DELIVERIES</th>\n",
       "      <th>PACKAGE_LOCKER</th>\n",
       "      <th>REFRIGERATED_LOCKER</th>\n",
       "      <th>AVG_PREP_VID_TIME</th>\n",
       "      <th>LARGEST_ORDER_SIZE</th>\n",
       "      <th>MASTER_CLASSES_ATTENDED</th>\n",
       "      <th>MEDIAN_MEAL_RATING</th>\n",
       "      <th>AVG_CLICKS_PER_VISIT</th>\n",
       "      <th>TOTAL_PHOTOS_VIEWED</th>\n",
       "    </tr>\n",
       "  </thead>\n",
       "  <tbody>\n",
       "    <tr>\n",
       "      <th>0</th>\n",
       "      <td>393.0</td>\n",
       "      <td>1</td>\n",
       "      <td>Saathos</td>\n",
       "      <td>saathos@unitedhealth.com</td>\n",
       "      <td>Saathos</td>\n",
       "      <td>Saathos</td>\n",
       "      <td>14</td>\n",
       "      <td>6</td>\n",
       "      <td>12</td>\n",
       "      <td>10</td>\n",
       "      <td>48.00</td>\n",
       "      <td>1</td>\n",
       "      <td>3</td>\n",
       "      <td>1</td>\n",
       "      <td>1</td>\n",
       "      <td>5</td>\n",
       "      <td>2</td>\n",
       "      <td>0</td>\n",
       "      <td>0</td>\n",
       "      <td>2</td>\n",
       "      <td>0</td>\n",
       "      <td>0</td>\n",
       "      <td>33.4</td>\n",
       "      <td>1</td>\n",
       "      <td>0</td>\n",
       "      <td>1</td>\n",
       "      <td>17</td>\n",
       "      <td>0</td>\n",
       "    </tr>\n",
       "    <tr>\n",
       "      <th>1</th>\n",
       "      <td>1365.0</td>\n",
       "      <td>1</td>\n",
       "      <td>Alysanne Osgrey</td>\n",
       "      <td>alysanne.osgrey@ge.org</td>\n",
       "      <td>Alysanne</td>\n",
       "      <td>Osgrey</td>\n",
       "      <td>87</td>\n",
       "      <td>3</td>\n",
       "      <td>8</td>\n",
       "      <td>8</td>\n",
       "      <td>40.35</td>\n",
       "      <td>1</td>\n",
       "      <td>0</td>\n",
       "      <td>0</td>\n",
       "      <td>1</td>\n",
       "      <td>5</td>\n",
       "      <td>1</td>\n",
       "      <td>12</td>\n",
       "      <td>0</td>\n",
       "      <td>2</td>\n",
       "      <td>0</td>\n",
       "      <td>0</td>\n",
       "      <td>84.8</td>\n",
       "      <td>1</td>\n",
       "      <td>0</td>\n",
       "      <td>3</td>\n",
       "      <td>13</td>\n",
       "      <td>170</td>\n",
       "    </tr>\n",
       "    <tr>\n",
       "      <th>2</th>\n",
       "      <td>800.0</td>\n",
       "      <td>1</td>\n",
       "      <td>Edwyd Fossoway</td>\n",
       "      <td>edwyd.fossoway@jnj.com</td>\n",
       "      <td>Edwyd</td>\n",
       "      <td>Fossoway</td>\n",
       "      <td>15</td>\n",
       "      <td>7</td>\n",
       "      <td>11</td>\n",
       "      <td>5</td>\n",
       "      <td>19.77</td>\n",
       "      <td>1</td>\n",
       "      <td>3</td>\n",
       "      <td>0</td>\n",
       "      <td>1</td>\n",
       "      <td>6</td>\n",
       "      <td>1</td>\n",
       "      <td>1</td>\n",
       "      <td>0</td>\n",
       "      <td>1</td>\n",
       "      <td>0</td>\n",
       "      <td>0</td>\n",
       "      <td>63.0</td>\n",
       "      <td>1</td>\n",
       "      <td>0</td>\n",
       "      <td>2</td>\n",
       "      <td>16</td>\n",
       "      <td>0</td>\n",
       "    </tr>\n",
       "    <tr>\n",
       "      <th>3</th>\n",
       "      <td>600.0</td>\n",
       "      <td>1</td>\n",
       "      <td>Eleyna Westerling</td>\n",
       "      <td>eleyna.westerling@ge.org</td>\n",
       "      <td>Eleyna</td>\n",
       "      <td>Westerling</td>\n",
       "      <td>13</td>\n",
       "      <td>6</td>\n",
       "      <td>11</td>\n",
       "      <td>5</td>\n",
       "      <td>90.00</td>\n",
       "      <td>1</td>\n",
       "      <td>2</td>\n",
       "      <td>0</td>\n",
       "      <td>1</td>\n",
       "      <td>6</td>\n",
       "      <td>1</td>\n",
       "      <td>14</td>\n",
       "      <td>0</td>\n",
       "      <td>3</td>\n",
       "      <td>0</td>\n",
       "      <td>0</td>\n",
       "      <td>43.8</td>\n",
       "      <td>1</td>\n",
       "      <td>0</td>\n",
       "      <td>2</td>\n",
       "      <td>14</td>\n",
       "      <td>0</td>\n",
       "    </tr>\n",
       "    <tr>\n",
       "      <th>4</th>\n",
       "      <td>1490.0</td>\n",
       "      <td>1</td>\n",
       "      <td>Elyn Norridge</td>\n",
       "      <td>elyn.norridge@jnj.com</td>\n",
       "      <td>Elyn</td>\n",
       "      <td>Norridge</td>\n",
       "      <td>47</td>\n",
       "      <td>8</td>\n",
       "      <td>6</td>\n",
       "      <td>10</td>\n",
       "      <td>40.38</td>\n",
       "      <td>1</td>\n",
       "      <td>0</td>\n",
       "      <td>0</td>\n",
       "      <td>0</td>\n",
       "      <td>5</td>\n",
       "      <td>1</td>\n",
       "      <td>5</td>\n",
       "      <td>0</td>\n",
       "      <td>8</td>\n",
       "      <td>0</td>\n",
       "      <td>0</td>\n",
       "      <td>84.8</td>\n",
       "      <td>1</td>\n",
       "      <td>1</td>\n",
       "      <td>3</td>\n",
       "      <td>12</td>\n",
       "      <td>205</td>\n",
       "    </tr>\n",
       "  </tbody>\n",
       "</table>\n",
       "</div>"
      ],
      "text/plain": [
       "   REVENUE  CROSS_SELL_SUCCESS               NAME                     EMAIL FIRST_NAME FAMILY_NAME  TOTAL_MEALS_ORDERED  UNIQUE_MEALS_PURCH  CONTACTS_W_CUSTOMER_SERVICE  PRODUCT_CATEGORIES_VIEWED  AVG_TIME_PER_SITE_VISIT  MOBILE_NUMBER  CANCELLATIONS_BEFORE_NOON  CANCELLATIONS_AFTER_NOON  TASTES_AND_PREFERENCES  PC_LOGINS  MOBILE_LOGINS  WEEKLY_PLAN  EARLY_DELIVERIES  LATE_DELIVERIES  PACKAGE_LOCKER  REFRIGERATED_LOCKER  AVG_PREP_VID_TIME  LARGEST_ORDER_SIZE  MASTER_CLASSES_ATTENDED  MEDIAN_MEAL_RATING  AVG_CLICKS_PER_VISIT  TOTAL_PHOTOS_VIEWED\n",
       "0    393.0                   1            Saathos  saathos@unitedhealth.com    Saathos     Saathos                   14                   6                           12                         10                    48.00              1                          3                         1                       1          5              2            0                 0                2               0                    0               33.4                   1                        0                   1                    17                    0\n",
       "1   1365.0                   1    Alysanne Osgrey    alysanne.osgrey@ge.org   Alysanne      Osgrey                   87                   3                            8                          8                    40.35              1                          0                         0                       1          5              1           12                 0                2               0                    0               84.8                   1                        0                   3                    13                  170\n",
       "2    800.0                   1     Edwyd Fossoway    edwyd.fossoway@jnj.com      Edwyd    Fossoway                   15                   7                           11                          5                    19.77              1                          3                         0                       1          6              1            1                 0                1               0                    0               63.0                   1                        0                   2                    16                    0\n",
       "3    600.0                   1  Eleyna Westerling  eleyna.westerling@ge.org     Eleyna  Westerling                   13                   6                           11                          5                    90.00              1                          2                         0                       1          6              1           14                 0                3               0                    0               43.8                   1                        0                   2                    14                    0\n",
       "4   1490.0                   1      Elyn Norridge     elyn.norridge@jnj.com       Elyn    Norridge                   47                   8                            6                         10                    40.38              1                          0                         0                       0          5              1            5                 0                8               0                    0               84.8                   1                        1                   3                    12                  205"
      ]
     },
     "execution_count": 2,
     "metadata": {},
     "output_type": "execute_result"
    }
   ],
   "source": [
    "#displaying the file \n",
    "df.head(n=5)"
   ]
  },
  {
   "cell_type": "code",
   "execution_count": 3,
   "metadata": {
    "scrolled": true
   },
   "outputs": [
    {
     "name": "stdout",
     "output_type": "stream",
     "text": [
      "<class 'pandas.core.frame.DataFrame'>\n",
      "RangeIndex: 1946 entries, 0 to 1945\n",
      "Data columns (total 28 columns):\n",
      " #   Column                       Non-Null Count  Dtype  \n",
      "---  ------                       --------------  -----  \n",
      " 0   REVENUE                      1946 non-null   float64\n",
      " 1   CROSS_SELL_SUCCESS           1946 non-null   int64  \n",
      " 2   NAME                         1946 non-null   object \n",
      " 3   EMAIL                        1946 non-null   object \n",
      " 4   FIRST_NAME                   1946 non-null   object \n",
      " 5   FAMILY_NAME                  1899 non-null   object \n",
      " 6   TOTAL_MEALS_ORDERED          1946 non-null   int64  \n",
      " 7   UNIQUE_MEALS_PURCH           1946 non-null   int64  \n",
      " 8   CONTACTS_W_CUSTOMER_SERVICE  1946 non-null   int64  \n",
      " 9   PRODUCT_CATEGORIES_VIEWED    1946 non-null   int64  \n",
      " 10  AVG_TIME_PER_SITE_VISIT      1946 non-null   float64\n",
      " 11  MOBILE_NUMBER                1946 non-null   int64  \n",
      " 12  CANCELLATIONS_BEFORE_NOON    1946 non-null   int64  \n",
      " 13  CANCELLATIONS_AFTER_NOON     1946 non-null   int64  \n",
      " 14  TASTES_AND_PREFERENCES       1946 non-null   int64  \n",
      " 15  PC_LOGINS                    1946 non-null   int64  \n",
      " 16  MOBILE_LOGINS                1946 non-null   int64  \n",
      " 17  WEEKLY_PLAN                  1946 non-null   int64  \n",
      " 18  EARLY_DELIVERIES             1946 non-null   int64  \n",
      " 19  LATE_DELIVERIES              1946 non-null   int64  \n",
      " 20  PACKAGE_LOCKER               1946 non-null   int64  \n",
      " 21  REFRIGERATED_LOCKER          1946 non-null   int64  \n",
      " 22  AVG_PREP_VID_TIME            1946 non-null   float64\n",
      " 23  LARGEST_ORDER_SIZE           1946 non-null   int64  \n",
      " 24  MASTER_CLASSES_ATTENDED      1946 non-null   int64  \n",
      " 25  MEDIAN_MEAL_RATING           1946 non-null   int64  \n",
      " 26  AVG_CLICKS_PER_VISIT         1946 non-null   int64  \n",
      " 27  TOTAL_PHOTOS_VIEWED          1946 non-null   int64  \n",
      "dtypes: float64(3), int64(21), object(4)\n",
      "memory usage: 425.8+ KB\n"
     ]
    }
   ],
   "source": [
    "#Grtting the information about the data\n",
    "df.info()"
   ]
  },
  {
   "cell_type": "code",
   "execution_count": 4,
   "metadata": {},
   "outputs": [
    {
     "data": {
      "image/png": "[encoded data removed]",
      "text/plain": [
       "<Figure size 720x360 with 1 Axes>"
      ]
     },
     "metadata": {
      "needs_background": "light"
     },
     "output_type": "display_data"
    }
   ],
   "source": [
    "# developing a histogram using DISPLOT\n",
    "sns.displot(data   = df,\n",
    "            x      = 'REVENUE',\n",
    "            height = 5,\n",
    "            aspect = 2)\n",
    "\n",
    "\n",
    "# displaying the histogram\n",
    "plt.title(\"Histogram for Revenue\")\n",
    "plt.show()"
   ]
  },
  {
   "cell_type": "markdown",
   "metadata": {},
   "source": [
    "So from the diagram it can be seen that our dependent variable is right skewed so we need to make it normalise by transformation "
   ]
  },
  {
   "cell_type": "markdown",
   "metadata": {},
   "source": [
    "#### Feature Engineering "
   ]
  },
  {
   "cell_type": "code",
   "execution_count": 5,
   "metadata": {},
   "outputs": [],
   "source": [
    "# log transforming Sale_Price and saving it to the dataset\n",
    "df['log_REVENUE'] = np.log10(df['REVENUE'])"
   ]
  },
  {
   "cell_type": "markdown",
   "metadata": {},
   "source": [
    "From the above analysis  the only missing values in the whole dataset was in the family name the reason can be that it was unknown or they didnt write so it  can imputed  with unknown values\n"
   ]
  },
  {
   "cell_type": "markdown",
   "metadata": {},
   "source": [
    "#### outlier detection"
   ]
  },
  {
   "cell_type": "markdown",
   "metadata": {},
   "source": [
    "With the help of boxplots detecting the outliers as they may affect the score for the data "
   ]
  },
  {
   "cell_type": "raw",
   "metadata": {},
   "source": [
    "In our data we have presence of outliers in 14 columns of the data \n",
    "TOTAL_MEALS_ORDERED', 'UNIQUE_MEALS_PURCH', 'CONTACTS_W_CUSTOMER_SERVICE','AVG_TIME_PER_SITE_VISIT',  'CANCELLATIONS_BEFORE_NOON', ' 'WEEKLY_PLAN', 'EARLY_DELIVERIES', 'LATE_DELIVERIES', , 'AVG_PREP_VID_TIME', 'LARGEST_ORDER_SIZE', 'MASTER_CLASSES_ATTENDED', 'MEDIAN_MEAL_RATING', 'AVG_CLICKS_PER_VISIT', 'TOTAL_PHOTOS_VIEWED'"
   ]
  },
  {
   "cell_type": "code",
   "execution_count": 6,
   "metadata": {},
   "outputs": [
    {
     "data": {
      "image/png": "[encoded data removed]",
      "text/plain": [
       "<Figure size 720x360 with 1 Axes>"
      ]
     },
     "metadata": {
      "needs_background": "light"
     },
     "output_type": "display_data"
    }
   ],
   "source": [
    "## Session 16.2.2 ##\n",
    "\n",
    "# setting figure size\n",
    "fig, ax = plt.subplots(figsize = (10, 5))\n",
    "\n",
    "\n",
    "# developing a boxplot for carat\n",
    "sns.boxplot(x      = 'TOTAL_MEALS_ORDERED',  # x-variable\n",
    "            y      = None,     # optional y-variable\n",
    "            hue    = None,     # optional categorical feature\n",
    "            orient = 'h',      # horizontal or vertical\n",
    "            data   = df) # DataFrame where features exist\n",
    "\n",
    "\n",
    "# formatting and displaying the plot\n",
    "plt.title(label = 'Boxplot Example')\n",
    "plt.xlabel(xlabel = 'Carat Weight')\n",
    "plt.show()\n"
   ]
  },
  {
   "cell_type": "markdown",
   "metadata": {},
   "source": [
    "#### Missing Data"
   ]
  },
  {
   "cell_type": "code",
   "execution_count": 7,
   "metadata": {},
   "outputs": [],
   "source": [
    "# instantiating an imputation value\n",
    "fill = \"Unknown\"\n",
    "\n",
    "\n",
    "# imputing 'Mas Vnr Area'\n",
    "df['FAMILY_NAME'] = df['FAMILY_NAME'].fillna(fill)"
   ]
  },
  {
   "cell_type": "code",
   "execution_count": 8,
   "metadata": {},
   "outputs": [
    {
     "data": {
      "text/plain": [
       "False"
      ]
     },
     "execution_count": 8,
     "metadata": {},
     "output_type": "execute_result"
    }
   ],
   "source": [
    "#checking for any missing values after the imputation\n",
    "df.isnull().any().any()"
   ]
  },
  {
   "cell_type": "markdown",
   "metadata": {},
   "source": [
    "#### type of variable present in the dataset"
   ]
  },
  {
   "cell_type": "raw",
   "metadata": {},
   "source": [
    "CONTINUOUS\n",
    "----------\n",
    "REVENUE (Y-variable)\n",
    "AVG_TIME_PER_SITE\n",
    "TOTAL_PHOTOS_VIEWED\n",
    "AVG_PREP_VID_TIME\n",
    "\n",
    "\n",
    "INTERVAL/COUNT\n",
    "--------------\n",
    "CROSS_SELL_SUCCESS\n",
    "'UNIQUE_MEALS_PURCH'\n",
    "'CONTACTS_W_CUSTOMER_SERVICE'\n",
    "'PRODUCT_CATEGORIES_VIEWED'\n",
    "'MOBILE_NUMBER'\n",
    "'CANCELLATIONS_BEFORE_NOON'\n",
    "'CANCELLATIONS_AFTER_NOON'\n",
    "'TASTES_AND_PREFERENCES'\n",
    "'PC_LOGINS',\n",
    "'MOBILE_LOGINS'\n",
    "'WEEKLY_PLAN'\n",
    "'EARLY_DELIVERIES'\n",
    "'LATE_DELIVERIES'\n",
    " 'PACKAGE_LOCKER' \n",
    " 'REFRIGERATED_LOCKER'\n",
    "'LARGEST_ORDER_SIZE'\n",
    "'MASTER_CLASSES_ATTENDED'\n",
    "'MEDIAN_MEAL_RATING',\n",
    "'AVG_CLICKS_PER_VISIT'\n",
    "'TOTAL_PHOTOS_VIEWED'\n",
    "\n",
    "CATEGORICAL\n",
    "-----------\n",
    "NAME\n",
    "EMAIL\n",
    "FIRST_NAME\n",
    "FAMILY_NAME\n"
   ]
  },
  {
   "cell_type": "code",
   "execution_count": 9,
   "metadata": {},
   "outputs": [
    {
     "data": {
      "image/png": "[encoded data removed]",
      "text/plain": [
       "<Figure size 720x576 with 3 Axes>"
      ]
     },
     "metadata": {
      "needs_background": "light"
     },
     "output_type": "display_data"
    }
   ],
   "source": [
    "##Getting to now our continuous variables in the data set\n",
    "#plotting these in order to know which of the variables need to be transformed\n",
    "# setting figure size\n",
    "fig, ax = plt.subplots(figsize = (10, 8))\n",
    "\n",
    "\n",
    "# developing a scatterplot\n",
    "plt.subplot(2, 2, 1)\n",
    "sns.scatterplot(x = df['AVG_TIME_PER_SITE_VISIT'],\n",
    "                y = df['REVENUE'],\n",
    "                color = 'g')\n",
    "\n",
    "\n",
    "# adding labels \n",
    "plt.xlabel(xlabel = 'AVG_TIME_PER_SITE_VISIT')\n",
    "plt.ylabel(ylabel = 'REVENUE')\n",
    "\n",
    "\n",
    "########################\n",
    "\n",
    "\n",
    "# developing a scatterplot\n",
    "plt.subplot(2, 2, 2)\n",
    "sns.scatterplot(x = df['AVG_PREP_VID_TIME'],\n",
    "                y = df['REVENUE'],\n",
    "                color = 'g')\n",
    "\n",
    "\n",
    "# adding labels \n",
    "plt.xlabel(xlabel = 'AVG_PREP_VID_TIME')\n",
    "plt.ylabel(ylabel = 'REVENUE')\n",
    "\n",
    "\n",
    "########################\n",
    "\n",
    "\n",
    "# developing a scatterplot\n",
    "plt.subplot(2, 2, 3)\n",
    "sns.scatterplot(x = df['TOTAL_MEALS_ORDERED'],\n",
    "                y = df['REVENUE'],\n",
    "                color = 'orange')\n",
    "\n",
    "\n",
    "# adding labels \n",
    "plt.xlabel(xlabel = 'TOTAL_MEALS_ORDERED')\n",
    "plt.ylabel(ylabel = 'REVENUE')\n",
    "\n",
    "\n",
    "########################\n",
    "\n",
    "\n",
    "\n",
    "\n",
    "\n",
    "# cleaning up the layout, saving the figures, and displaying the results\n",
    "plt.tight_layout()\n",
    "\n",
    "plt.show()\n",
    "\n",
    "\n",
    "########################\n",
    "\n"
   ]
  },
  {
   "cell_type": "markdown",
   "metadata": {},
   "source": [
    "the below part is done in order to know whether there is more than 100 observations on both side if that is the case we need to write a code for outliers"
   ]
  },
  {
   "cell_type": "code",
   "execution_count": 10,
   "metadata": {},
   "outputs": [
    {
     "name": "stdout",
     "output_type": "stream",
     "text": [
      "\n",
      "                 No\t\tYes\n",
      "               ---------------------\n",
      "AVG_TIME       | 0\t\t1946\n",
      "AVG VIDE   | 0\t\t1946\n",
      "TOTAL_MEALS        | 0\t\t1946\n",
      "\n",
      "\n"
     ]
    }
   ],
   "source": [
    "# counting the number of zeroes\n",
    "AVG_TIME_ZEROES   = len(df['AVG_TIME_PER_SITE_VISIT'][df['AVG_TIME_PER_SITE_VISIT'] == 0])\n",
    "AVG_VID_ZEROES     = len(df['AVG_PREP_VID_TIME'][df['AVG_PREP_VID_TIME'] == 0])\n",
    "TOTAL_MEALS_ZEROES = len(df['TOTAL_MEALS_ORDERED'][df['TOTAL_MEALS_ORDERED'] == 0])\n",
    "\n",
    "## the table below has been coded for you ##\n",
    "\n",
    "# printing a table of the results\n",
    "print(f\"\"\"\n",
    "                 No\\t\\tYes\n",
    "               ---------------------\n",
    "AVG_TIME       | {AVG_TIME_ZEROES}\\t\\t{len(df) - AVG_TIME_ZEROES}\n",
    "AVG VIDE   | {AVG_VID_ZEROES }\\t\\t{len(df) - AVG_VID_ZEROES }\n",
    "TOTAL_MEALS        | {TOTAL_MEALS_ZEROES}\\t\\t{len(df) - TOTAL_MEALS_ZEROES}\n",
    "\n",
    "\"\"\")"
   ]
  },
  {
   "cell_type": "markdown",
   "metadata": {},
   "source": [
    "#### Working with interval and count data"
   ]
  },
  {
   "cell_type": "code",
   "execution_count": 11,
   "metadata": {},
   "outputs": [
    {
     "data": {
      "image/png": "[encoded data removed]",
      "text/plain": [
       "<Figure size 432x288 with 1 Axes>"
      ]
     },
     "metadata": {
      "needs_background": "light"
     },
     "output_type": "display_data"
    }
   ],
   "source": [
    "# developing a boxplot\n",
    "sns.boxplot(x    = 'LARGEST_ORDER_SIZE',\n",
    "            y    = 'REVENUE',\n",
    "            data = df)\n",
    "\n",
    "\n",
    "# titles and axis labels\n",
    "plt.title(label   = 'Boxplot with Interval Data')\n",
    "plt.xlabel(xlabel = 'Overall Quality')\n",
    "plt.ylabel(ylabel = 'Sale Price')\n",
    "\n",
    "\n",
    "# displaying the plot\n",
    "plt.show()"
   ]
  },
  {
   "cell_type": "markdown",
   "metadata": {},
   "source": [
    "by making boxplots of each interval and count variable transforming those in which a line cannot be in a straight line with its median"
   ]
  },
  {
   "cell_type": "code",
   "execution_count": 12,
   "metadata": {},
   "outputs": [],
   "source": [
    "df['n_MEDIAN_MEAL_RATING'] = np.log10(df['MEDIAN_MEAL_RATING'])\n",
    "df['n_LARGEST_ORDER_SIZE'] = np.log10(df['LARGEST_ORDER_SIZE'])\n",
    "df['n_CONTACTS_W_CUSTOMER_SERVICEl'] = np.log10(df['CONTACTS_W_CUSTOMER_SERVICE'])\n",
    "df['n_UNIQUE_MEALS_PURCH'] = np.log10(df['UNIQUE_MEALS_PURCH'])"
   ]
  },
  {
   "cell_type": "markdown",
   "metadata": {},
   "source": [
    "For making these two variables into one "
   ]
  },
  {
   "cell_type": "code",
   "execution_count": 13,
   "metadata": {},
   "outputs": [
    {
     "data": {
      "image/png": "[encoded data removed]",
      "text/plain": [
       "<Figure size 1080x720 with 1 Axes>"
      ]
     },
     "metadata": {
      "needs_background": "light"
     },
     "output_type": "display_data"
    },
    {
     "name": "stdout",
     "output_type": "stream",
     "text": [
      "\n",
      "Cancellation\n",
      "=========\n",
      "\n",
      "-----------\n",
      "Total Cancel\n",
      "-----------\n",
      "0    1255\n",
      "1     471\n",
      "2     220\n",
      "Name: Total_locker, dtype: int64\n",
      "\n",
      "\n",
      "---------------------\n",
      "Cancellation  Correlations\n",
      "---------------------\n",
      "PACKAGE_LOCKER        -0.01\n",
      "REFRIGERATED_LOCKER   -0.00\n",
      "Total_locker          -0.01\n",
      "REVENUE                1.00\n",
      "Name: REVENUE, dtype: float64\n",
      "\n",
      "\n"
     ]
    }
   ],
   "source": [
    "# total locker\n",
    "\n",
    "df['Total_locker'] = df['PACKAGE_LOCKER'] + df['REFRIGERATED_LOCKER']\n",
    "\n",
    "# setting figure size\n",
    "fig, ax = plt.subplots(figsize = (15, 10))\n",
    "\n",
    "\n",
    "# developing a boxplot\n",
    "sns.boxplot(x    = 'Total_locker',\n",
    "            y    = 'REVENUE',\n",
    "            data =df)\n",
    "\n",
    "\n",
    "\n",
    "# titles and labels\n",
    "plt.title(label   = 'Relationship between Total Locker and REVENUE')\n",
    "plt.xlabel(xlabel = 'Total_locker')\n",
    "plt.ylabel(ylabel = 'Revenue')\n",
    "\n",
    "\n",
    "# displaying the plot\n",
    "plt.tight_layout\n",
    "plt.show()\n",
    "\n",
    "\n",
    "## the following code has been written for you ##\n",
    "\n",
    "# developing a correlation matrix\n",
    "cancel_corr = df.loc[ : , ['PACKAGE_LOCKER',\n",
    "                              'REFRIGERATED_LOCKER',\n",
    "                              'Total_locker',\n",
    "                              'REVENUE']  ].corr(method = 'pearson')\\\n",
    "                                              .round(decimals = 2)\n",
    "\n",
    "\n",
    "# printing value counts and correlations bathrooms\n",
    "print(f\"\"\"\n",
    "Cancellation\n",
    "=========\n",
    "\n",
    "-----------\n",
    "Total Cancel\n",
    "-----------\n",
    "{df['Total_locker'].value_counts(normalize = False).sort_index()}\n",
    "\n",
    "\n",
    "---------------------\n",
    "Cancellation  Correlations\n",
    "---------------------\n",
    "{cancel_corr['REVENUE']}\n",
    "\n",
    "\"\"\")"
   ]
  },
  {
   "cell_type": "markdown",
   "metadata": {},
   "source": [
    "#### Feature engineering of object variable"
   ]
  },
  {
   "cell_type": "code",
   "execution_count": 14,
   "metadata": {},
   "outputs": [
    {
     "data": {
      "text/html": [
       "<div>\n",
       "<style scoped>\n",
       "    .dataframe tbody tr th:only-of-type {\n",
       "        vertical-align: middle;\n",
       "    }\n",
       "\n",
       "    .dataframe tbody tr th {\n",
       "        vertical-align: top;\n",
       "    }\n",
       "\n",
       "    .dataframe thead th {\n",
       "        text-align: right;\n",
       "    }\n",
       "</style>\n",
       "<table border=\"1\" class=\"dataframe\">\n",
       "  <thead>\n",
       "    <tr style=\"text-align: right;\">\n",
       "      <th></th>\n",
       "      <th>0</th>\n",
       "      <th>1</th>\n",
       "    </tr>\n",
       "  </thead>\n",
       "  <tbody>\n",
       "    <tr>\n",
       "      <th>0</th>\n",
       "      <td>saathos</td>\n",
       "      <td>unitedhealth.com</td>\n",
       "    </tr>\n",
       "    <tr>\n",
       "      <th>1</th>\n",
       "      <td>alysanne.osgrey</td>\n",
       "      <td>ge.org</td>\n",
       "    </tr>\n",
       "    <tr>\n",
       "      <th>2</th>\n",
       "      <td>edwyd.fossoway</td>\n",
       "      <td>jnj.com</td>\n",
       "    </tr>\n",
       "    <tr>\n",
       "      <th>3</th>\n",
       "      <td>eleyna.westerling</td>\n",
       "      <td>ge.org</td>\n",
       "    </tr>\n",
       "    <tr>\n",
       "      <th>4</th>\n",
       "      <td>elyn.norridge</td>\n",
       "      <td>jnj.com</td>\n",
       "    </tr>\n",
       "    <tr>\n",
       "      <th>...</th>\n",
       "      <td>...</td>\n",
       "      <td>...</td>\n",
       "    </tr>\n",
       "    <tr>\n",
       "      <th>1941</th>\n",
       "      <td>obara.sand</td>\n",
       "      <td>yahoo.com</td>\n",
       "    </tr>\n",
       "    <tr>\n",
       "      <th>1942</th>\n",
       "      <td>quentyn.blackwood</td>\n",
       "      <td>yahoo.com</td>\n",
       "    </tr>\n",
       "    <tr>\n",
       "      <th>1943</th>\n",
       "      <td>rhonda.rowan</td>\n",
       "      <td>gmail.com</td>\n",
       "    </tr>\n",
       "    <tr>\n",
       "      <th>1944</th>\n",
       "      <td>turnip</td>\n",
       "      <td>yahoo.com</td>\n",
       "    </tr>\n",
       "    <tr>\n",
       "      <th>1945</th>\n",
       "      <td>tommard.heddle</td>\n",
       "      <td>merck.com</td>\n",
       "    </tr>\n",
       "  </tbody>\n",
       "</table>\n",
       "<p>1946 rows × 2 columns</p>\n",
       "</div>"
      ],
      "text/plain": [
       "                      0                 1\n",
       "0               saathos  unitedhealth.com\n",
       "1       alysanne.osgrey            ge.org\n",
       "2        edwyd.fossoway           jnj.com\n",
       "3     eleyna.westerling            ge.org\n",
       "4         elyn.norridge           jnj.com\n",
       "...                 ...               ...\n",
       "1941         obara.sand         yahoo.com\n",
       "1942  quentyn.blackwood         yahoo.com\n",
       "1943       rhonda.rowan         gmail.com\n",
       "1944             turnip         yahoo.com\n",
       "1945     tommard.heddle         merck.com\n",
       "\n",
       "[1946 rows x 2 columns]"
      ]
     },
     "execution_count": 14,
     "metadata": {},
     "output_type": "execute_result"
    }
   ],
   "source": [
    "# STEP 1: splitting personal emails\n",
    "\n",
    "# placeholder list\n",
    "placeholder_lst = []\n",
    "\n",
    "# looping over each email address\n",
    "for index, col in df.iterrows():\n",
    "    \n",
    "    # splitting email domain at '@'\n",
    "    split_email = df.loc[index, 'EMAIL'].split(sep = '@')\n",
    "    \n",
    "    # appending placeholder_lst with the results\n",
    "    placeholder_lst.append(split_email)\n",
    "    \n",
    "\n",
    "# converting placeholder_lst into a DataFrame \n",
    "email_df = pd.DataFrame(placeholder_lst)\n",
    "\n",
    "\n",
    "# displaying the results\n",
    "email_df"
   ]
  },
  {
   "cell_type": "code",
   "execution_count": 15,
   "metadata": {},
   "outputs": [],
   "source": [
    "# renaming column to concatenate\n",
    "email_df.columns = ['0', 'email_domain']\n",
    "\n",
    "\n",
    "# concatenating personal_email_domain with df\n",
    "df = pd.concat([df, email_df['email_domain']],\n",
    "                   axis = 1)\n",
    "\n",
    "\n",
    "# printing value counts of email_domain\n",
    "#df.loc[: ,'email_domain'].value_counts()"
   ]
  },
  {
   "cell_type": "code",
   "execution_count": 16,
   "metadata": {},
   "outputs": [
    {
     "data": {
      "text/plain": [
       "personal        861\n",
       "professional    696\n",
       "junk            389\n",
       "Name: domain_group, dtype: int64"
      ]
     },
     "execution_count": 16,
     "metadata": {},
     "output_type": "execute_result"
    }
   ],
   "source": [
    "# email domain types as given in the case study \n",
    "personal_email = ['@gmail.com', '@yahoo.com','@protonmail.com']\n",
    "junk_email  = ['@me.com','@aol.com','@hotmail.com','@live.com','@msn.com','@passport.com']\n",
    "prof_email =['@mmm.com','@amex.com','@apple.com','@boeing.com','@caterpillar.com','@chevron.com','@cisco.com',\n",
    "              '@cocacola.com','@disney.com','@dupont.com','@exxon.com','@ge.org','@goldmansacs.com','@homedepot.com',\n",
    "              '@ibm.com','@intel.com','@jnj.com','@jpmorgan.com','@mcdonalds.com','@merck.com','@microsoft.com',\n",
    "              '@nike.com','@pfizer.com','@pg.com','@travelers.com','@unitedtech.com','@unitedhealth.com',\n",
    "              '@verizon.com','@visa.com','@walmart.com']\n",
    "\n",
    "# placeholder list\n",
    "placeholder_lst = []\n",
    "\n",
    "\n",
    "# looping to group observations by domain type\n",
    "for domain in df['email_domain']:\n",
    "    \n",
    "    if '@' + domain in personal_email:\n",
    "        placeholder_lst.append('personal')\n",
    "        \n",
    "\n",
    "    elif '@' + domain in junk_email:\n",
    "        placeholder_lst.append('junk')\n",
    "        \n",
    "    elif '@' + domain in prof_email:\n",
    "        placeholder_lst.append('professional')\n",
    "\n",
    "\n",
    "    else:\n",
    "            print('Unknown')\n",
    "\n",
    "\n",
    "# concatenating with original DataFrame\n",
    "df['domain_group'] = pd.Series(placeholder_lst)\n",
    "\n",
    "\n",
    "# checking results\n",
    "df['domain_group'].value_counts()"
   ]
  },
  {
   "cell_type": "markdown",
   "metadata": {},
   "source": [
    "As for finding the gender it is of no use to our data so gender guesser has not been used "
   ]
  },
  {
   "cell_type": "markdown",
   "metadata": {},
   "source": [
    "#### one hot encoding"
   ]
  },
  {
   "cell_type": "markdown",
   "metadata": {},
   "source": [
    "Email may have a significant effect on the revenue generated so hot encoding it so as to be used in the model development"
   ]
  },
  {
   "cell_type": "code",
   "execution_count": 17,
   "metadata": {},
   "outputs": [],
   "source": [
    "#doing one hot encoding on the domain group \n",
    "hot_email_domain      = pd.get_dummies(df['domain_group'])\n",
    "df = df.drop('domain_group', axis = 1)\n",
    "df = pd.concat([df,hot_email_domain],axis=1)"
   ]
  },
  {
   "cell_type": "markdown",
   "metadata": {},
   "source": [
    "### Models"
   ]
  },
  {
   "cell_type": "code",
   "execution_count": 18,
   "metadata": {},
   "outputs": [],
   "source": [
    "# preparing explanatory variable data\n",
    "x_data   = df.drop(['REVENUE',\n",
    "                    'log_REVENUE','FIRST_NAME','FAMILY_NAME','NAME','EMAIL','email_domain'],\n",
    "                               axis = 1)\n",
    "\n",
    "\n",
    "# preparing response variables\n",
    "df_target = df.loc[ : ,'REVENUE']\n",
    "log_target = df.loc[ : ,'log_REVENUE']\n",
    "\n",
    "\n",
    "# preparing training and testing sets \n",
    "x_train, x_test, y_train, y_test = train_test_split(\n",
    "            x_data,\n",
    "            df_target,\n",
    "            test_size = 0.25,\n",
    "            random_state = 219)\n"
   ]
  },
  {
   "cell_type": "code",
   "execution_count": 19,
   "metadata": {},
   "outputs": [],
   "source": [
    "# preparing training and testing sets \n",
    "x_train_l, x_test_l, y_train_l, y_test_l = train_test_split(\n",
    "            x_data,\n",
    "            log_target,\n",
    "            test_size = 0.25,\n",
    "            random_state = 219)"
   ]
  },
  {
   "cell_type": "markdown",
   "metadata": {},
   "source": [
    "#### correlation "
   ]
  },
  {
   "cell_type": "markdown",
   "metadata": {},
   "source": [
    "To see the corelation between differnt variable "
   ]
  },
  {
   "cell_type": "code",
   "execution_count": 20,
   "metadata": {},
   "outputs": [
    {
     "name": "stdout",
     "output_type": "stream",
     "text": [
      "REVENUE                           1.00\n",
      "log_REVENUE                       0.95\n",
      "AVG_PREP_VID_TIME                 0.64\n",
      "MEDIAN_MEAL_RATING                0.61\n",
      "TOTAL_MEALS_ORDERED               0.60\n",
      "n_MEDIAN_MEAL_RATING              0.55\n",
      "TOTAL_PHOTOS_VIEWED               0.47\n",
      "MASTER_CLASSES_ATTENDED           0.45\n",
      "LARGEST_ORDER_SIZE                0.44\n",
      "n_LARGEST_ORDER_SIZE              0.42\n",
      "n_CONTACTS_W_CUSTOMER_SERVICEl    0.17\n",
      "AVG_TIME_PER_SITE_VISIT           0.14\n",
      "CONTACTS_W_CUSTOMER_SERVICE       0.10\n",
      "PRODUCT_CATEGORIES_VIEWED         0.03\n",
      "MOBILE_NUMBER                     0.03\n",
      "PC_LOGINS                         0.02\n",
      "WEEKLY_PLAN                       0.01\n",
      "CANCELLATIONS_BEFORE_NOON         0.01\n",
      "TASTES_AND_PREFERENCES            0.01\n",
      "professional                      0.01\n",
      "personal                          0.01\n",
      "EARLY_DELIVERIES                 -0.00\n",
      "REFRIGERATED_LOCKER              -0.00\n",
      "CROSS_SELL_SUCCESS                0.00\n",
      "LATE_DELIVERIES                  -0.01\n",
      "Total_locker                     -0.01\n",
      "PACKAGE_LOCKER                   -0.01\n",
      "MOBILE_LOGINS                    -0.02\n",
      "junk                             -0.02\n",
      "CANCELLATIONS_AFTER_NOON         -0.04\n",
      "UNIQUE_MEALS_PURCH               -0.06\n",
      "n_UNIQUE_MEALS_PURCH             -0.12\n",
      "AVG_CLICKS_PER_VISIT             -0.55\n",
      "Name: REVENUE, dtype: float64\n"
     ]
    }
   ],
   "source": [
    "# creating a (Pearson) correlation matrix\n",
    "df_corr = df.corr().round(2)\n",
    "\n",
    "\n",
    "# printing (Pearson) correlations with SalePrice\n",
    "print(df_corr.loc['REVENUE'].sort_values(ascending = False))"
   ]
  },
  {
   "cell_type": "markdown",
   "metadata": {},
   "source": [
    "####  ols (Ordinary Least Squares)"
   ]
  },
  {
   "cell_type": "code",
   "execution_count": 21,
   "metadata": {},
   "outputs": [
    {
     "name": "stdout",
     "output_type": "stream",
     "text": [
      "                            OLS Regression Results                            \n",
      "==============================================================================\n",
      "Dep. Variable:                REVENUE   R-squared:                       0.696\n",
      "Model:                            OLS   Adj. R-squared:                  0.693\n",
      "Method:                 Least Squares   F-statistic:                     254.0\n",
      "Date:                Sat, 23 Jan 2021   Prob (F-statistic):               0.00\n",
      "Time:                        12:27:42   Log-Likelihood:                -11449.\n",
      "No. Observations:                1459   AIC:                         2.293e+04\n",
      "Df Residuals:                    1445   BIC:                         2.300e+04\n",
      "Df Model:                          13                                         \n",
      "Covariance Type:            nonrobust                                         \n",
      "==================================================================================================\n",
      "                                     coef    std err          t      P>|t|      [0.025      0.975]\n",
      "--------------------------------------------------------------------------------------------------\n",
      "Intercept                       -881.8670    216.015     -4.082      0.000   -1305.603    -458.131\n",
      "TOTAL_PHOTOS_VIEWED                0.6670      0.104      6.431      0.000       0.464       0.870\n",
      "AVG_PREP_VID_TIME                  8.6540      0.653     13.244      0.000       7.372       9.936\n",
      "TOTAL_MEALS_ORDERED                5.2545      0.384     13.692      0.000       4.502       6.007\n",
      "CROSS_SELL_SUCCESS               -73.7683     34.888     -2.114      0.035    -142.205      -5.331\n",
      "UNIQUE_MEALS_PURCH               237.7929     19.709     12.065      0.000     199.131     276.455\n",
      "CONTACTS_W_CUSTOMER_SERVICE      -80.4536     33.754     -2.384      0.017    -146.665     -14.242\n",
      "LARGEST_ORDER_SIZE              -167.9337     43.030     -3.903      0.000    -252.342     -83.525\n",
      "MASTER_CLASSES_ATTENDED          177.4337     29.364      6.043      0.000     119.833     235.035\n",
      "MEDIAN_MEAL_RATING               997.8489    102.148      9.769      0.000     797.475    1198.222\n",
      "n_MEDIAN_MEAL_RATING           -3499.8506    547.683     -6.390      0.000   -4574.190   -2425.511\n",
      "n_LARGEST_ORDER_SIZE             774.5813    384.297      2.016      0.044      20.742    1528.421\n",
      "n_CONTACTS_W_CUSTOMER_SERVICEl  1694.4285    519.163      3.264      0.001     676.036    2712.821\n",
      "n_UNIQUE_MEALS_PURCH           -3019.8462    181.808    -16.610      0.000   -3376.482   -2663.210\n",
      "==============================================================================\n",
      "Omnibus:                      450.731   Durbin-Watson:                   1.995\n",
      "Prob(Omnibus):                  0.000   Jarque-Bera (JB):             6540.787\n",
      "Skew:                           1.028   Prob(JB):                         0.00\n",
      "Kurtosis:                      13.167   Cond. No.                     8.99e+03\n",
      "==============================================================================\n",
      "\n",
      "Warnings:\n",
      "[1] Standard Errors assume that the covariance matrix of the errors is correctly specified.\n",
      "[2] The condition number is large, 8.99e+03. This might indicate that there are\n",
      "strong multicollinearity or other numerical problems.\n"
     ]
    }
   ],
   "source": [
    "# merging X_train and y_train so that they can be used in statsmodels\n",
    "df_train = pd.concat([x_train, y_train], axis = 1)\n",
    "lm_best2 = smf.ols(formula =  \"\"\"REVENUE ~ TOTAL_PHOTOS_VIEWED +\n",
    "                                        AVG_PREP_VID_TIME +\n",
    "                                        TOTAL_MEALS_ORDERED +\n",
    "                                        CROSS_SELL_SUCCESS +\n",
    "                                        UNIQUE_MEALS_PURCH +\n",
    "                                        CONTACTS_W_CUSTOMER_SERVICE +\n",
    "                                        LARGEST_ORDER_SIZE +\n",
    "                                        MASTER_CLASSES_ATTENDED +\n",
    "                                        MEDIAN_MEAL_RATING + n_MEDIAN_MEAL_RATING +\n",
    "                                        n_LARGEST_ORDER_SIZE +\n",
    "                                        n_CONTACTS_W_CUSTOMER_SERVICEl +\n",
    "                                        n_UNIQUE_MEALS_PURCH\n",
    "                                        \n",
    "                                         \n",
    "                                         \"\"\",\n",
    "                                        data = df_train)\n",
    "\n",
    "\n",
    "# Step 2: FIT the data into the model object\n",
    "results2 = lm_best2.fit()\n",
    "\n",
    "\n",
    "# Step 3: analyze the SUMMARY output\n",
    "print(results2.summary())"
   ]
  },
  {
   "cell_type": "markdown",
   "metadata": {},
   "source": [
    "#### OLS Transformed Revenue"
   ]
  },
  {
   "cell_type": "markdown",
   "metadata": {},
   "source": [
    "Now performing the OLS using the transformed Revenue"
   ]
  },
  {
   "cell_type": "code",
   "execution_count": 22,
   "metadata": {},
   "outputs": [
    {
     "name": "stdout",
     "output_type": "stream",
     "text": [
      "                            OLS Regression Results                            \n",
      "==============================================================================\n",
      "Dep. Variable:            log_REVENUE   R-squared:                       0.732\n",
      "Model:                            OLS   Adj. R-squared:                  0.729\n",
      "Method:                 Least Squares   F-statistic:                     303.2\n",
      "Date:                Sat, 23 Jan 2021   Prob (F-statistic):               0.00\n",
      "Time:                        12:27:42   Log-Likelihood:                 1171.5\n",
      "No. Observations:                1459   AIC:                            -2315.\n",
      "Df Residuals:                    1445   BIC:                            -2241.\n",
      "Df Model:                          13                                         \n",
      "Covariance Type:            nonrobust                                         \n",
      "==================================================================================================\n",
      "                                     coef    std err          t      P>|t|      [0.025      0.975]\n",
      "--------------------------------------------------------------------------------------------------\n",
      "Intercept                          2.5654      0.038     67.827      0.000       2.491       2.640\n",
      "TOTAL_PHOTOS_VIEWED             8.853e-05   1.82e-05      4.875      0.000    5.29e-05       0.000\n",
      "AVG_PREP_VID_TIME                  0.0016      0.000     13.702      0.000       0.001       0.002\n",
      "TOTAL_MEALS_ORDERED                0.0009   6.72e-05     13.403      0.000       0.001       0.001\n",
      "CROSS_SELL_SUCCESS                -0.0133      0.006     -2.180      0.029      -0.025      -0.001\n",
      "UNIQUE_MEALS_PURCH                 0.0411      0.003     11.914      0.000       0.034       0.048\n",
      "CONTACTS_W_CUSTOMER_SERVICE       -0.0540      0.006     -9.138      0.000      -0.066      -0.042\n",
      "LARGEST_ORDER_SIZE                -0.0468      0.008     -6.208      0.000      -0.062      -0.032\n",
      "MASTER_CLASSES_ATTENDED            0.0348      0.005      6.765      0.000       0.025       0.045\n",
      "MEDIAN_MEAL_RATING                 0.1380      0.018      7.715      0.000       0.103       0.173\n",
      "n_MEDIAN_MEAL_RATING              -0.3138      0.096     -3.273      0.001      -0.502      -0.126\n",
      "n_LARGEST_ORDER_SIZE               0.3259      0.067      4.843      0.000       0.194       0.458\n",
      "n_CONTACTS_W_CUSTOMER_SERVICEl     0.7790      0.091      8.570      0.000       0.601       0.957\n",
      "n_UNIQUE_MEALS_PURCH              -0.5347      0.032    -16.797      0.000      -0.597      -0.472\n",
      "==============================================================================\n",
      "Omnibus:                      269.773   Durbin-Watson:                   2.066\n",
      "Prob(Omnibus):                  0.000   Jarque-Bera (JB):             1696.662\n",
      "Skew:                          -0.703   Prob(JB):                         0.00\n",
      "Kurtosis:                       8.093   Cond. No.                     8.99e+03\n",
      "==============================================================================\n",
      "\n",
      "Warnings:\n",
      "[1] Standard Errors assume that the covariance matrix of the errors is correctly specified.\n",
      "[2] The condition number is large, 8.99e+03. This might indicate that there are\n",
      "strong multicollinearity or other numerical problems.\n"
     ]
    }
   ],
   "source": [
    "# merging X_train and y_train so that they can be used in statsmodels\n",
    "df_train = pd.concat([x_train_l, y_train_l], axis = 1)\n",
    "lm_best21 = smf.ols(formula =  \"\"\"log_REVENUE ~ TOTAL_PHOTOS_VIEWED +\n",
    "                                        AVG_PREP_VID_TIME +\n",
    "                                        TOTAL_MEALS_ORDERED +\n",
    "                                        CROSS_SELL_SUCCESS +\n",
    "                                        UNIQUE_MEALS_PURCH +\n",
    "                                        CONTACTS_W_CUSTOMER_SERVICE +\n",
    "                                        LARGEST_ORDER_SIZE +\n",
    "                                        MASTER_CLASSES_ATTENDED +\n",
    "                                        MEDIAN_MEAL_RATING + n_MEDIAN_MEAL_RATING +\n",
    "                                        n_LARGEST_ORDER_SIZE +\n",
    "                                        n_CONTACTS_W_CUSTOMER_SERVICEl +\n",
    "                                        n_UNIQUE_MEALS_PURCH\n",
    "                                        \n",
    "                                         \n",
    "                                         \"\"\",\n",
    "                                        data = df_train)\n",
    "\n",
    "\n",
    "# Step 2: FIT the data into the model object\n",
    "results21 = lm_best21.fit()\n",
    "\n",
    "\n",
    "# Step 3: analyze the SUMMARY output\n",
    "print(results21.summary())"
   ]
  },
  {
   "cell_type": "markdown",
   "metadata": {},
   "source": [
    "From the  above model it can be seen that overall the model is statistically significant and all the variables choosen are statistically significant as its pvalue is less than 0.05.It can also be judged that the n_median_meal_ratng has highest significance on the Revenue"
   ]
  },
  {
   "cell_type": "markdown",
   "metadata": {},
   "source": [
    "#### Linear Regression"
   ]
  },
  {
   "cell_type": "code",
   "execution_count": 23,
   "metadata": {},
   "outputs": [],
   "source": [
    "import sklearn.linear_model"
   ]
  },
  {
   "cell_type": "markdown",
   "metadata": {},
   "source": [
    "Building data for the ols"
   ]
  },
  {
   "cell_type": "code",
   "execution_count": 24,
   "metadata": {},
   "outputs": [],
   "source": [
    "#### \n",
    "# applying modelin scikit-learn\n",
    "# choosing the variables that have to be choosen for the model development \n",
    "var =['CROSS_SELL_SUCCESS',  'TOTAL_MEALS_ORDERED', \n",
    "              'UNIQUE_MEALS_PURCH', 'CONTACTS_W_CUSTOMER_SERVICE', 'PRODUCT_CATEGORIES_VIEWED', \n",
    "              'AVG_TIME_PER_SITE_VISIT', 'MOBILE_NUMBER', 'CANCELLATIONS_BEFORE_NOON',\n",
    "              'CANCELLATIONS_AFTER_NOON', 'TASTES_AND_PREFERENCES', 'PC_LOGINS', 'MOBILE_LOGINS',\n",
    "              'WEEKLY_PLAN', 'EARLY_DELIVERIES', 'LATE_DELIVERIES', 'PACKAGE_LOCKER', 'REFRIGERATED_LOCKER', \n",
    "              'AVG_PREP_VID_TIME', 'LARGEST_ORDER_SIZE', 'MASTER_CLASSES_ATTENDED', 'MEDIAN_MEAL_RATING', \n",
    "              'AVG_CLICKS_PER_VISIT', 'TOTAL_PHOTOS_VIEWED', \n",
    "              'Total_locker', 'junk', 'personal', 'professional','n_MEDIAN_MEAL_RATING', 'n_LARGEST_ORDER_SIZE', \n",
    "              'n_CONTACTS_W_CUSTOMER_SERVICEl', 'n_UNIQUE_MEALS_PURCH']\n",
    "# preparing x-variables from the OLS model\n",
    "ols_data = df[var]\n",
    "\n",
    "\n",
    "# preparing response variable\n",
    "chef_target = df['REVENUE']\n",
    "\n",
    "#datasplit for linear regression\n",
    "# OLS p-value x-dataset (normal Y)\n",
    "x_train_OLS, x_test_OLS, y_train_OLS, y_test_OLS = train_test_split(\n",
    "            ols_data,         # x-variables\n",
    "            chef_target,   # y-variable\n",
    "            test_size = 0.25,\n",
    "            random_state = 219)\n"
   ]
  },
  {
   "cell_type": "code",
   "execution_count": 25,
   "metadata": {},
   "outputs": [
    {
     "name": "stdout",
     "output_type": "stream",
     "text": [
      "OLS Training Score : 0.698\n",
      "OLS Testing Score  : 0.7007\n",
      "OLS Train-Test Gap : 0.0027\n"
     ]
    }
   ],
   "source": [
    "# INSTANTIATING a model object\n",
    "lr = LinearRegression()\n",
    "\n",
    "\n",
    "# FITTING to the training data\n",
    "lr_fit = lr.fit(x_train_OLS, y_train_OLS)\n",
    "\n",
    "\n",
    "# PREDICTING on new data\n",
    "lr_pred = lr_fit.predict(x_test_OLS)\n",
    "\n",
    "\n",
    "# SCORING the results\n",
    "print('OLS Training Score :', lr.score(x_train_OLS, y_train_OLS).round(4))  # using R-square\n",
    "print('OLS Testing Score  :',  lr.score(x_test_OLS, y_test_OLS).round(4)) # using R-square\n",
    "\n",
    "lr_train_score = lr.score(x_train_OLS, y_train_OLS).round(4)\n",
    "lr_test_score  = lr.score(x_test_OLS, y_test_OLS).round(4)\n",
    "\n",
    "# displaying and saving the gap between training and testing\n",
    "print('OLS Train-Test Gap :', abs(lr_train_score - lr_test_score).round(4))\n",
    "lr_test_gap = abs(lr_train_score - lr_test_score).round(4)"
   ]
  },
  {
   "cell_type": "markdown",
   "metadata": {},
   "source": [
    "##### Coefficients"
   ]
  },
  {
   "cell_type": "code",
   "execution_count": 26,
   "metadata": {
    "scrolled": true
   },
   "outputs": [
    {
     "name": "stdout",
     "output_type": "stream",
     "text": [
      "('intercept', -747.37)\n",
      "('CROSS_SELL_SUCCESS', -93.77)\n",
      "('TOTAL_MEALS_ORDERED', 5.22)\n",
      "('UNIQUE_MEALS_PURCH', 236.19)\n",
      "('CONTACTS_W_CUSTOMER_SERVICE', -74.65)\n",
      "('PRODUCT_CATEGORIES_VIEWED', 8.02)\n",
      "('AVG_TIME_PER_SITE_VISIT', -0.04)\n",
      "('MOBILE_NUMBER', 12.06)\n",
      "('CANCELLATIONS_BEFORE_NOON', 4.33)\n",
      "('CANCELLATIONS_AFTER_NOON', 4.28)\n",
      "('TASTES_AND_PREFERENCES', 21.92)\n",
      "('PC_LOGINS', -16.87)\n",
      "('MOBILE_LOGINS', -53.01)\n",
      "('WEEKLY_PLAN', 0.59)\n",
      "('EARLY_DELIVERIES', -4.21)\n",
      "('LATE_DELIVERIES', 6.18)\n",
      "('PACKAGE_LOCKER', -1.31)\n",
      "('REFRIGERATED_LOCKER', -18.58)\n",
      "('AVG_PREP_VID_TIME', 8.72)\n",
      "('LARGEST_ORDER_SIZE', -175.29)\n",
      "('MASTER_CLASSES_ATTENDED', 179.62)\n",
      "('MEDIAN_MEAL_RATING', 997.61)\n",
      "('AVG_CLICKS_PER_VISIT', -0.41)\n",
      "('TOTAL_PHOTOS_VIEWED', 0.68)\n",
      "('Total_locker', -19.9)\n",
      "('junk', -37.01)\n",
      "('personal', 6.82)\n",
      "('professional', 30.19)\n",
      "('n_MEDIAN_MEAL_RATING', -3510.09)\n",
      "('n_LARGEST_ORDER_SIZE', 829.03)\n",
      "('n_CONTACTS_W_CUSTOMER_SERVICEl', 1604.84)\n",
      "('n_UNIQUE_MEALS_PURCH', -3009.57)\n"
     ]
    }
   ],
   "source": [
    "lr_model_values = zip(x_data[var].columns,\n",
    "                      lr_fit.coef_.round(decimals = 2))\n",
    "\n",
    "\n",
    "# setting up a placeholder list to store model features\n",
    "lr_model_lst = [('intercept', lr_fit.intercept_.round(decimals = 2))]\n",
    "\n",
    "\n",
    "# printing out each feature-coefficient pair one by one\n",
    "for val in lr_model_values:\n",
    "    lr_model_lst.append(val)\n",
    "    \n",
    "\n",
    "# checking the results\n",
    "for pair in lr_model_lst:\n",
    "    print(pair)"
   ]
  },
  {
   "cell_type": "markdown",
   "metadata": {},
   "source": [
    "#### Lasso Model "
   ]
  },
  {
   "cell_type": "markdown",
   "metadata": {},
   "source": [
    "regression analysis method that performs both variable selection and regularization in order to enhance the prediction accuracy and interpretability of the resulting statistical mod"
   ]
  },
  {
   "cell_type": "code",
   "execution_count": 27,
   "metadata": {},
   "outputs": [],
   "source": [
    "from sklearn.linear_model import LinearRegression\n",
    "\n",
    "#x_data = x_data.apply(pd.to_numeric, errors='coerce')\n",
    "#df_target = df_target.apply(pd.to_numeric, errors='coerce')"
   ]
  },
  {
   "cell_type": "code",
   "execution_count": 38,
   "metadata": {},
   "outputs": [
    {
     "name": "stdout",
     "output_type": "stream",
     "text": [
      "Lasso Training Score : 0.6979\n",
      "Lasso Testing Score  : 0.7007\n",
      "Lasso Train-Test Gap : 0.0027\n"
     ]
    }
   ],
   "source": [
    "import sklearn.linear_model\n",
    "# INSTANTIATING a model object\n",
    "lasso_model = sklearn.linear_model.Lasso(alpha = 0.07,\n",
    "                                         normalize = False) # default magitude\n",
    "\n",
    "\n",
    "# FITTING to the training data\n",
    "lasso_fit = lasso_model.fit(x_train, y_train)\n",
    "\n",
    "# PREDICTING on new data\n",
    "lasso_pred = lasso_fit.predict(x_test)\n",
    "\n",
    "\n",
    "# SCORING the results\n",
    "print('Lasso Training Score :', lasso_model.score(x_train, y_train).round(4))\n",
    "print('Lasso Testing Score  :', lasso_model.score(x_test, y_test).round(4))\n",
    "\n",
    "\n",
    "## the following code has been provided for you ##\n",
    "\n",
    "# saving scoring data for future use\n",
    "lasso_train_score = lasso_model.score(x_train, y_train).round(4) # using R-square\n",
    "lasso_test_score  = lasso_model.score(x_test, y_test).round(4)   # using R-square\n",
    "\n",
    "\n",
    "# displaying and saving the gap between training and testing\n",
    "print('Lasso Train-Test Gap :', abs(lr_train_score - lr_test_score).round(4))\n",
    "lasso_test_gap = abs(lr_train_score - lr_test_score).round(4)"
   ]
  },
  {
   "cell_type": "markdown",
   "metadata": {},
   "source": [
    "So the test train gap is below 0.05 so this is a good model "
   ]
  },
  {
   "cell_type": "markdown",
   "metadata": {},
   "source": [
    "##### Coefficients"
   ]
  },
  {
   "cell_type": "code",
   "execution_count": 29,
   "metadata": {},
   "outputs": [
    {
     "name": "stdout",
     "output_type": "stream",
     "text": [
      "('intercept', 15.49)\n",
      "('CROSS_SELL_SUCCESS', -81.73)\n",
      "('TOTAL_MEALS_ORDERED', 5.47)\n",
      "('UNIQUE_MEALS_PURCH', 221.21)\n",
      "('CONTACTS_W_CUSTOMER_SERVICE', -0.0)\n",
      "('PRODUCT_CATEGORIES_VIEWED', 9.05)\n",
      "('AVG_TIME_PER_SITE_VISIT', -0.08)\n",
      "('MOBILE_NUMBER', 6.26)\n",
      "('CANCELLATIONS_BEFORE_NOON', 2.03)\n",
      "('CANCELLATIONS_AFTER_NOON', 0.0)\n",
      "('TASTES_AND_PREFERENCES', 24.06)\n",
      "('PC_LOGINS', -9.68)\n",
      "('MOBILE_LOGINS', -47.55)\n",
      "('WEEKLY_PLAN', 0.36)\n",
      "('EARLY_DELIVERIES', -2.84)\n",
      "('LATE_DELIVERIES', 5.74)\n",
      "('PACKAGE_LOCKER', -0.0)\n",
      "('REFRIGERATED_LOCKER', -15.58)\n",
      "('AVG_PREP_VID_TIME', 8.7)\n",
      "('LARGEST_ORDER_SIZE', -107.25)\n",
      "('MASTER_CLASSES_ATTENDED', 176.62)\n",
      "('MEDIAN_MEAL_RATING', 672.24)\n",
      "('AVG_CLICKS_PER_VISIT', -12.25)\n",
      "('TOTAL_PHOTOS_VIEWED', 0.68)\n",
      "('n_MEDIAN_MEAL_RATING', -1833.71)\n",
      "('n_LARGEST_ORDER_SIZE', 212.6)\n",
      "('n_CONTACTS_W_CUSTOMER_SERVICEl', 479.01)\n",
      "('n_UNIQUE_MEALS_PURCH', -2858.92)\n",
      "('Total_locker', -24.91)\n",
      "('junk', -36.88)\n",
      "('personal', -0.0)\n",
      "('professional', 14.83)\n"
     ]
    }
   ],
   "source": [
    "# zipping each feature name to its coefficient\n",
    "lasso_model_values = zip(x_data.columns, lasso_fit.coef_.round(decimals = 2))\n",
    "\n",
    "\n",
    "# setting up a placeholder list to store model features\n",
    "lasso_model_lst = [('intercept', lasso_fit.intercept_.round(decimals = 2))]\n",
    "\n",
    "\n",
    "# printing out each feature-coefficient pair one by one\n",
    "for val in lasso_model_values:\n",
    "    lasso_model_lst.append(val)\n",
    "    \n",
    "\n",
    "# checking the results\n",
    "for pair in lasso_model_lst:\n",
    "    print(pair)"
   ]
  },
  {
   "cell_type": "markdown",
   "metadata": {},
   "source": [
    "#### ARD -(Automatic Relevance Determination (ARD) model ) - Best Model"
   ]
  },
  {
   "cell_type": "code",
   "execution_count": 30,
   "metadata": {
    "scrolled": true
   },
   "outputs": [
    {
     "name": "stdout",
     "output_type": "stream",
     "text": [
      "Training Score: 0.6964\n",
      "Testing Score : 0.7039\n",
      "ARD Train-Test Gap : 0.0075\n"
     ]
    }
   ],
   "source": [
    "from sklearn.linear_model import ARDRegression\n",
    "# INSTANTIATING a model object\n",
    "ard_model = ARDRegression()\n",
    "\n",
    "\n",
    "# FITTING the training data\n",
    "ard_fit = ard_model.fit(x_train,y_train)\n",
    "\n",
    "\n",
    "# PREDICTING on new data\n",
    "ard_pred = ard_fit.predict(x_test)\n",
    "\n",
    "\n",
    "print('Training Score:', ard_model.score(x_train,y_train).round(4))\n",
    "print('Testing Score :',  ard_model.score(x_test,y_test).round(4))\n",
    "\n",
    "\n",
    "# saving scoring data for future use\n",
    "ard_train_score = ard_model.score(x_train,y_train).round(4)\n",
    "ard_test_score  = ard_model.score(x_test,y_test).round(4)\n",
    "\n",
    "\n",
    "# displaying and saving the gap between training and testing\n",
    "print('ARD Train-Test Gap :', abs(ard_train_score - ard_test_score).round(4))\n",
    "ard_test_gap = abs(ard_train_score - ard_test_score).round(4)"
   ]
  },
  {
   "cell_type": "markdown",
   "metadata": {},
   "source": [
    "##### Coefficients"
   ]
  },
  {
   "cell_type": "code",
   "execution_count": 31,
   "metadata": {
    "collapsed": true
   },
   "outputs": [
    {
     "name": "stdout",
     "output_type": "stream",
     "text": [
      "('intercept', -656.57)\n",
      "('CROSS_SELL_SUCCESS', -58.28034)\n",
      "('TOTAL_MEALS_ORDERED', 5.3018)\n",
      "('UNIQUE_MEALS_PURCH', 234.60434)\n",
      "('CONTACTS_W_CUSTOMER_SERVICE', -51.44667)\n",
      "('PRODUCT_CATEGORIES_VIEWED', 5.24746)\n",
      "('AVG_TIME_PER_SITE_VISIT', -0.00013)\n",
      "('MOBILE_NUMBER', 0.00012)\n",
      "('CANCELLATIONS_BEFORE_NOON', 0.00028)\n",
      "('CANCELLATIONS_AFTER_NOON', 0.0001)\n",
      "('TASTES_AND_PREFERENCES', 0.00138)\n",
      "('PC_LOGINS', -0.00129)\n",
      "('MOBILE_LOGINS', -31.72953)\n",
      "('WEEKLY_PLAN', 0.00075)\n",
      "('EARLY_DELIVERIES', -0.00102)\n",
      "('LATE_DELIVERIES', 0.19195)\n",
      "('PACKAGE_LOCKER', -0.00123)\n",
      "('REFRIGERATED_LOCKER', -0.00538)\n",
      "('AVG_PREP_VID_TIME', 8.63356)\n",
      "('LARGEST_ORDER_SIZE', -136.64316)\n",
      "('MASTER_CLASSES_ATTENDED', 175.65326)\n",
      "('MEDIAN_MEAL_RATING', 954.767)\n",
      "('AVG_CLICKS_PER_VISIT', -0.00019)\n",
      "('TOTAL_PHOTOS_VIEWED', 0.65244)\n",
      "('n_MEDIAN_MEAL_RATING', -3236.53923)\n",
      "('n_LARGEST_ORDER_SIZE', 491.9728)\n",
      "('n_CONTACTS_W_CUSTOMER_SERVICEl', 1244.95315)\n",
      "('n_UNIQUE_MEALS_PURCH', -2991.30541)\n",
      "('Total_locker', -13.05684)\n",
      "('junk', -6.02445)\n",
      "('personal', -4e-05)\n",
      "('professional', 0.00193)\n"
     ]
    }
   ],
   "source": [
    "# zipping each feature name to its coefficient\n",
    "ard_model_values = zip(x_data.columns, ard_fit.coef_.round(decimals = 5))\n",
    "\n",
    "\n",
    "# setting up a placeholder list to store model features\n",
    "ard_model_lst = [('intercept', ard_fit.intercept_.round(decimals = 2))]\n",
    "\n",
    "\n",
    "# printing out each feature-coefficient pair one by one\n",
    "for val in ard_model_values:\n",
    "    ard_model_lst.append(val)\n",
    "    \n",
    "\n",
    "# checking the results\n",
    "for pair in ard_model_lst:\n",
    "    print(pair)"
   ]
  },
  {
   "cell_type": "code",
   "execution_count": 32,
   "metadata": {},
   "outputs": [
    {
     "name": "stdout",
     "output_type": "stream",
     "text": [
      "('intercept', -656.57)\n",
      "('CROSS_SELL_SUCCESS', -58.28034)\n",
      "('TOTAL_MEALS_ORDERED', 5.3018)\n",
      "('UNIQUE_MEALS_PURCH', 234.60434)\n",
      "('CONTACTS_W_CUSTOMER_SERVICE', -51.44667)\n",
      "('PRODUCT_CATEGORIES_VIEWED', 5.24746)\n",
      "('AVG_TIME_PER_SITE_VISIT', -0.00013)\n",
      "('MOBILE_NUMBER', 0.00012)\n",
      "('CANCELLATIONS_BEFORE_NOON', 0.00028)\n",
      "('CANCELLATIONS_AFTER_NOON', 0.0001)\n",
      "('TASTES_AND_PREFERENCES', 0.00138)\n",
      "('PC_LOGINS', -0.00129)\n",
      "('MOBILE_LOGINS', -31.72953)\n",
      "('WEEKLY_PLAN', 0.00075)\n",
      "('EARLY_DELIVERIES', -0.00102)\n",
      "('LATE_DELIVERIES', 0.19195)\n",
      "('PACKAGE_LOCKER', -0.00123)\n",
      "('REFRIGERATED_LOCKER', -0.00538)\n",
      "('AVG_PREP_VID_TIME', 8.63356)\n",
      "('LARGEST_ORDER_SIZE', -136.64316)\n",
      "('MASTER_CLASSES_ATTENDED', 175.65326)\n",
      "('MEDIAN_MEAL_RATING', 954.767)\n",
      "('AVG_CLICKS_PER_VISIT', -0.00019)\n",
      "('TOTAL_PHOTOS_VIEWED', 0.65244)\n",
      "('n_MEDIAN_MEAL_RATING', -3236.53923)\n",
      "('n_LARGEST_ORDER_SIZE', 491.9728)\n",
      "('n_CONTACTS_W_CUSTOMER_SERVICEl', 1244.95315)\n",
      "('n_UNIQUE_MEALS_PURCH', -2991.30541)\n",
      "('Total_locker', -13.05684)\n",
      "('junk', -6.02445)\n",
      "('personal', -4e-05)\n",
      "('professional', 0.00193)\n"
     ]
    }
   ],
   "source": [
    "## This code may have to be run more than once ##\n",
    "\n",
    "# dropping coefficients that are equal to zero\n",
    "\n",
    "# printing out each feature-coefficient pair one by one\n",
    "for feature, coefficient in ard_model_lst:\n",
    "        \n",
    "        if coefficient == 0:\n",
    "            ard_model_lst.remove((feature, coefficient))\n",
    "\n",
    "            \n",
    "# checking the results\n",
    "for pair in ard_model_lst:\n",
    "    print(pair)"
   ]
  },
  {
   "cell_type": "code",
   "execution_count": 33,
   "metadata": {},
   "outputs": [
    {
     "name": "stdout",
     "output_type": "stream",
     "text": [
      "\n",
      "Model      Train Score      Test Score                   Train_Test_Gap\n",
      "-----      -----------      ----------                   --------------\n",
      "OLS        0.698            0.7007               0.0027\n",
      "Lasso      0.6947           0.699            0.0027\n",
      "ARD        0.6964           0.7039              0.0075\n",
      "\n",
      "\n"
     ]
    }
   ],
   "source": [
    "# comparing results\n",
    "\n",
    "print(f\"\"\"\n",
    "Model      Train Score      Test Score                   Train_Test_Gap\n",
    "-----      -----------      ----------                   --------------\n",
    "OLS        {lr_train_score}            {lr_test_score}               {lr_test_gap}\n",
    "Lasso      {lasso_train_score}           {lasso_test_score}            {lasso_test_gap}\n",
    "ARD        {ard_train_score}           {ard_test_score}              {ard_test_gap}\n",
    "\n",
    "\"\"\")\n",
    "\n",
    "\n",
    "# creating a dictionary for model results\n",
    "model_performance = {\n",
    "    \n",
    "    'Model Type'    : ['OLS', 'Lasso', 'ARD'],\n",
    "           \n",
    "    'Training' : [lr_train_score, lasso_train_score,\n",
    "                                   ard_train_score],\n",
    "           \n",
    "    'Testing'  : [lr_test_score, lasso_test_score,\n",
    "                                   ard_test_score],\n",
    "                    \n",
    "    'Train-Test Gap' : [lr_test_gap, lasso_test_gap,\n",
    "                                        ard_test_gap],\n",
    "                    \n",
    "    'Model Size' : [len(lr_model_lst), len(lasso_model_lst),\n",
    "                                    len(ard_model_lst)],\n",
    "                    \n",
    "    'Model' : [lr_model_lst, lasso_model_lst, ard_model_lst]}\n",
    "\n",
    "\n",
    "# converting model_performance into a DataFrame\n",
    "model_performance = pd.DataFrame(model_performance)\n"
   ]
  },
  {
   "cell_type": "markdown",
   "metadata": {},
   "source": [
    "So the best model is the ARD"
   ]
  }
 ],
 "metadata": {
  "kernelspec": {
   "display_name": "Python 3",
   "language": "python",
   "name": "python3"
  },
  "language_info": {
   "codemirror_mode": {
    "name": "ipython",
    "version": 3
   },
   "file_extension": ".py",
   "mimetype": "text/x-python",
   "name": "python",
   "nbconvert_exporter": "python",
   "pygments_lexer": "ipython3",
   "version": "3.8.3"
  },
  "toc": {
   "base_numbering": 1,
   "nav_menu": {},
   "number_sections": true,
   "sideBar": true,
   "skip_h1_title": false,
   "title_cell": "Table of Contents",
   "title_sidebar": "Contents",
   "toc_cell": false,
   "toc_position": {
    "height": "calc(100% - 180px)",
    "left": "10px",
    "top": "150px",
    "width": "326px"
   },
   "toc_section_display": true,
   "toc_window_display": false
  },
  "varInspector": {
   "cols": {
    "lenName": 16,
    "lenType": 16,
    "lenVar": 40
   },
   "kernels_config": {
    "python": {
     "delete_cmd_postfix": "",
     "delete_cmd_prefix": "del ",
     "library": "var_list.py",
     "varRefreshCmd": "print(var_dic_list())"
    },
    "r": {
     "delete_cmd_postfix": ") ",
     "delete_cmd_prefix": "rm(",
     "library": "var_list.r",
     "varRefreshCmd": "cat(var_dic_list()) "
    }
   },
   "types_to_exclude": [
    "module",
    "function",
    "builtin_function_or_method",
    "instance",
    "_Feature"
   ],
   "window_display": false
  }
 },
 "nbformat": 4,
 "nbformat_minor": 4
}
